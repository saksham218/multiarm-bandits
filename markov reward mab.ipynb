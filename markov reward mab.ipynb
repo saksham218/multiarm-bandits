{
 "cells": [
  {
   "cell_type": "code",
   "execution_count": null,
   "metadata": {},
   "outputs": [],
   "source": [
    "import numpy as np\n",
    "import matplotlib.pyplot as plt"
   ]
  },
  {
   "cell_type": "code",
   "execution_count": null,
   "metadata": {},
   "outputs": [],
   "source": [
    "def std(P):\n",
    "    x=P\n",
    "    for i in range(100):\n",
    "        x=x@P\n",
    "    return x[0]\n"
   ]
  },
  {
   "cell_type": "code",
   "execution_count": null,
   "metadata": {},
   "outputs": [],
   "source": [
    "K=10\n",
    "s=2\n",
    "P=np.zeros((K,2,2),dtype=np.float32)\n",
    "pi=std(P)\n",
    "mu_r=np.zeros((K,2))\n",
    "mu_op=np.max(np.sum(pi@(mu_r.T),axis=1))\n",
    "state=np.zeros(K,dtype=np.int32)\n",
    "T=np.ones(K)\n",
    "total_r=np.zeros(K)\n",
    "L=2000\n",
    "g=np.zeros(K)\n",
    "N=10000\n",
    "regret=np.zeros(N)"
   ]
  },
  {
   "cell_type": "code",
   "execution_count": null,
   "metadata": {},
   "outputs": [],
   "source": [
    "def play(arm,state,mu_r,total_r,T,P):\n",
    "    s=state[arm]\n",
    "    # print(s)\n",
    "    mu=mu_r[arm][s]\n",
    "    # print(mu)\n",
    "    reward=np.random.poisson(lam=mu,size=1)\n",
    "    T[arm]+=1\n",
    "    total_r[arm]+=reward\n",
    "    s=np.random.uniform(0,1)\n",
    "    p=P[arm][state[arm]][state[arm]]\n",
    "    if s>p:\n",
    "        state[arm]=1-state[arm]\n",
    "    return reward\n",
    "   \n",
    "    \n",
    "\n"
   ]
  },
  {
   "cell_type": "code",
   "execution_count": null,
   "metadata": {},
   "outputs": [],
   "source": [
    "for i in range(K):\n",
    "    play(i,state,mu_r,total_r,T,P)\n",
    "    g[i]=total_r[i]/T[i]\n",
    "\n",
    "\n",
    "for i in range(N):\n",
    "    arm=np.argmax(g)\n",
    "    reward=play(arm,state,mu_r,total_r,T,P)\n",
    "    g[arm]=total_r[arm]/T[arm]+np.sqrt(L*np.log(i)/T[arm])\n",
    "    if i==0:\n",
    "        regret[i]=mu_op-reward\n",
    "    regret[i]=regret[i-1]+mu_op-reward\n",
    "    \n"
   ]
  },
  {
   "cell_type": "code",
   "execution_count": null,
   "metadata": {},
   "outputs": [],
   "source": [
    "m=np.array([[0.9,0.1],[0.3,0.7]])\n",
    "n=std(m)"
   ]
  }
 ],
 "metadata": {
  "kernelspec": {
   "display_name": "Python 3",
   "language": "python",
   "name": "python3"
  },
  "language_info": {
   "codemirror_mode": {
    "name": "ipython",
    "version": 3
   },
   "file_extension": ".py",
   "mimetype": "text/x-python",
   "name": "python",
   "nbconvert_exporter": "python",
   "pygments_lexer": "ipython3",
   "version": "3.10.2"
  },
  "orig_nbformat": 4
 },
 "nbformat": 4,
 "nbformat_minor": 2
}
